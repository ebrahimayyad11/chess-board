{
 "cells": [
  {
   "cell_type": "code",
   "execution_count": 1,
   "id": "4246f252-6820-454a-8b5c-c3516de046f8",
   "metadata": {},
   "outputs": [],
   "source": [
    "import matplotlib.pyplot as plt\n",
    "import numpy as np"
   ]
  },
  {
   "cell_type": "code",
   "execution_count": 8,
   "id": "98e54af1-893e-404b-94c8-b977b955beb5",
   "metadata": {},
   "outputs": [],
   "source": [
    "class Chess_Board:\n",
    "    def __init__(self):\n",
    "        self.grid = np.ones((8,8,3))\n",
    "        self.red = []\n",
    "        self.blue = []\n",
    "        for x in range(len(self.grid)):\n",
    "            for y in range(len(self.grid)):\n",
    "                if x%2==0 and y%2==1:\n",
    "                    self.grid[x,y]=[0,0,0]\n",
    "                if x%2==1 and y%2==0:\n",
    "                    self.grid[x,y]=[0,0,0]\n",
    "    def add_red(self,r,c):\n",
    "        self.grid[r,c]=[1,0.2,0]\n",
    "        self.red=[r,c]\n",
    "        \n",
    "    def add_blue(self,r,c):\n",
    "        self.grid[r,c]=[0,1,1]\n",
    "        self.blue=[r,c]\n",
    "        \n",
    "    def render(self,r1,c1,r2,c2):\n",
    "        self.__init__()\n",
    "        self.add_red(r1,c1)\n",
    "        self.add_blue(r2,c2)\n",
    "        plt.imshow(self.grid)\n",
    "        \n",
    "    def is_under_attack(self):\n",
    "        if self.red[0] == self.blue[0]:\n",
    "            return True\n",
    "                \n",
    "        elif self.red[1] == self.blue[1]:\n",
    "            return True\n",
    "        \n",
    "        elif abs(self.red[1] - self.blue[1]) == abs(self.red[0]-self.blue[0]):\n",
    "            return True\n",
    "        \n",
    "        else:\n",
    "            return False\n",
    "        "
   ]
  },
  {
   "cell_type": "code",
   "execution_count": 9,
   "id": "f2da5c59-2593-4f2b-a937-15d6869de057",
   "metadata": {},
   "outputs": [
    {
     "data": {
      "text/plain": [
       "True"
      ]
     },
     "execution_count": 9,
     "metadata": {},
     "output_type": "execute_result"
    },
    {
     "data": {
      "image/png": "[encoded data removed]",
      "text/plain": [
       "<Figure size 432x288 with 1 Axes>"
      ]
     },
     "metadata": {
      "needs_background": "light"
     },
     "output_type": "display_data"
    }
   ],
   "source": [
    "ch= Chess_Board()\n",
    "ch.render(2,1,5,1)\n",
    "ch.is_under_attack()"
   ]
  },
  {
   "cell_type": "code",
   "execution_count": 10,
   "id": "7cb72429-cfbe-4686-b3f8-b78e2d40feab",
   "metadata": {},
   "outputs": [
    {
     "name": "stdout",
     "output_type": "stream",
     "text": [
      "under attack\n"
     ]
    },
    {
     "data": {
      "image/png": "[encoded data removed]",
      "text/plain": [
       "<Figure size 432x288 with 1 Axes>"
      ]
     },
     "metadata": {
      "needs_background": "light"
     },
     "output_type": "display_data"
    }
   ],
   "source": [
    "def test_same_raw_under_attack():\n",
    "    ch = Chess_Board()\n",
    "    ch.render(1,3,1,5)\n",
    "    assert ch.is_under_attack() == True\n",
    "    print('under attack')\n",
    "    \n",
    "test_same_raw_under_attack()"
   ]
  },
  {
   "cell_type": "code",
   "execution_count": 11,
   "id": "f543ff49-de78-4e85-bc79-c8c13c91d4e8",
   "metadata": {},
   "outputs": [
    {
     "name": "stdout",
     "output_type": "stream",
     "text": [
      "under attack\n"
     ]
    },
    {
     "data": {
      "image/png": "[encoded data removed]",
      "text/plain": [
       "<Figure size 432x288 with 1 Axes>"
      ]
     },
     "metadata": {
      "needs_background": "light"
     },
     "output_type": "display_data"
    }
   ],
   "source": [
    "def test_same_column_under_attack():\n",
    "    ch = Chess_Board()\n",
    "    ch.render(2,3,6,3)\n",
    "    assert ch.is_under_attack() == True\n",
    "    print('under attack')\n",
    "    \n",
    "test_same_column_under_attack()"
   ]
  },
  {
   "cell_type": "code",
   "execution_count": 15,
   "id": "3a32cfee-d988-4c30-b937-2bb58f1601ca",
   "metadata": {},
   "outputs": [
    {
     "name": "stdout",
     "output_type": "stream",
     "text": [
      "under attack\n"
     ]
    },
    {
     "data": {
      "image/png": "[encoded data removed]",
      "text/plain": [
       "<Figure size 432x288 with 1 Axes>"
      ]
     },
     "metadata": {
      "needs_background": "light"
     },
     "output_type": "display_data"
    }
   ],
   "source": [
    "def test_same_diagonal_under_attack():\n",
    "    ch = Chess_Board()\n",
    "    ch.render(2,3,5,6)\n",
    "    assert ch.is_under_attack()==True\n",
    "    print('under attack')\n",
    "    \n",
    "test_same_diagonal_under_attack()"
   ]
  },
  {
   "cell_type": "code",
   "execution_count": 16,
   "id": "5ba9d11a-e5c9-412c-b3fc-e0a2652b2fa8",
   "metadata": {},
   "outputs": [
    {
     "name": "stdout",
     "output_type": "stream",
     "text": [
      "Queen is safe\n"
     ]
    },
    {
     "data": {
      "image/png": "[encoded data removed]",
      "text/plain": [
       "<Figure size 432x288 with 1 Axes>"
      ]
     },
     "metadata": {
      "needs_background": "light"
     },
     "output_type": "display_data"
    }
   ],
   "source": [
    "def test_is_not_under_attack():\n",
    "    ch = Chess_Board()\n",
    "    ch.render(2,3,5,7)\n",
    "    assert ch.is_under_attack()==False\n",
    "    print('Queen is safe')\n",
    "    \n",
    "test_is_not_under_attack()"
   ]
  },
  {
   "cell_type": "code",
   "execution_count": null,
   "id": "2b5f8717-7a2f-440a-8c3b-9f2604e239f3",
   "metadata": {},
   "outputs": [],
   "source": []
  }
 ],
 "metadata": {
  "kernelspec": {
   "display_name": "Python 3",
   "language": "python",
   "name": "python3"
  },
  "language_info": {
   "codemirror_mode": {
    "name": "ipython",
    "version": 3
   },
   "file_extension": ".py",
   "mimetype": "text/x-python",
   "name": "python",
   "nbconvert_exporter": "python",
   "pygments_lexer": "ipython3",
   "version": "3.9.4"
  }
 },
 "nbformat": 4,
 "nbformat_minor": 5
}
